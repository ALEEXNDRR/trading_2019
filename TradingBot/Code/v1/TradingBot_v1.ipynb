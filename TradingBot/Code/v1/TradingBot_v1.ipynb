{
  "nbformat": 4,
  "nbformat_minor": 0,
  "metadata": {
    "colab": {
      "name": "TradingBot_v1.ipynb",
      "provenance": [],
      "collapsed_sections": []
    },
    "kernelspec": {
      "name": "python3",
      "display_name": "Python 3"
    }
  },
  "cells": [
    {
      "cell_type": "markdown",
      "metadata": {
        "id": "JlBMPH5OYt5r",
        "colab_type": "text"
      },
      "source": [
        "Daten aus Spark werden in einem File abgelegt.\n",
        "\n",
        "*   .csv auslesen\n",
        "*   Startdatum festlegen\n",
        "\n",
        "    -> Daten für diesen Tag vorhanden :: nehmen dieser Daten\n",
        "    -> Daten nicht vorhanden :: suchen Tage +/-\n",
        "\n"
      ]
    },
    {
      "cell_type": "markdown",
      "metadata": {
        "id": "mODKJ0RinqPp",
        "colab_type": "text"
      },
      "source": [
        "**Klassen**\n",
        "\n",
        "* **User** - id, Name, Guthaben\n",
        "* **Strategie** - id, Name, Wertpapier, Signal\n",
        "* **Wertpapier** - id, Name, Shortcut, Start, Kurs"
      ]
    },
    {
      "cell_type": "code",
      "metadata": {
        "id": "BK3xmt4RZukt",
        "colab_type": "code",
        "colab": {}
      },
      "source": [
        "class User:\n",
        "  def __init__(self, id, name, budget, trades):\n",
        "    self.id = id\n",
        "    self.name = name\n",
        "    self.budget = budget\n",
        "    self.trades = trades\n",
        "\n",
        "class Strategie:\n",
        "  def __init__(self, id, name, wp, signal):\n",
        "    self.id = id\n",
        "    self.name = name\n",
        "    self.wp = wp\n",
        "    self.signal = signal\n",
        "\n",
        "class Trade:\n",
        "  def __init__(self, id, date, wp, amount):\n",
        "    self.id = id\n",
        "    self.date = date\n",
        "    self.wp = wp\n",
        "    self.amount = amount\n",
        "\n",
        "class Wertpapier:\n",
        "  def __init__(self, id, name, short, date, course):\n",
        "    self.id = id\n",
        "    self.name = name\n",
        "    self.short = short\n",
        "    self.date = date\n",
        "    self.course = course\n",
        "\n",
        "\n",
        "coins = []"
      ],
      "execution_count": 0,
      "outputs": []
    },
    {
      "cell_type": "markdown",
      "metadata": {
        "id": "VW-IVw8HqPBd",
        "colab_type": "text"
      },
      "source": [
        "**TRENDS**\n",
        "\n",
        "* Abwärtstrend\n",
        "* Aufwärtstrend\n",
        "---\n",
        "**VERKAUFSIGNALE**\n",
        "\n",
        "> Indikatoren liefern ein Signalschema welches in 4 Sektoren gegliedert werden kann. V für Verkaufen, K für Kaufen, H für Halten. Skala beginnt bei 0 (??) und endet bei 3 (??)\n",
        "\n",
        "* **VERKAUFEN - KAUFEN - HALTEN** \n",
        "\n",
        "Signal | Definition\n",
        "--- | ---\n",
        "**VO** | erstes Verkaufsignal\n",
        "**V1** | zweites Verkaufsignal\n",
        "**V2** | drittes Verkaufsignal\n",
        "**V3** | viertes Verkaufsignal\n",
        "\n",
        "Signal | Definition\n",
        "--- | ---\n",
        "**KO** | erstes Kaufsignal\n",
        "**K1** | zweites Kaufsignal\n",
        "**K2** | drittes Kaufsignal\n",
        "**K3** | viertes Kaufsignal\n",
        "\n",
        "Signal | Definition\n",
        "--- | ---\n",
        "**HO** | erstes Haltesignal\n",
        "**H1** | zweites Haltesignal\n",
        "**H2** | drittes Haltesignal\n",
        "**H3** | viertes Haltesignal\n",
        "\n",
        "---"
      ]
    },
    {
      "cell_type": "code",
      "metadata": {
        "id": "hHKHeTsTN0Hb",
        "colab_type": "code",
        "colab": {
          "base_uri": "https://localhost:8080/",
          "height": 34
        },
        "outputId": "c948c97b-47a8-4284-c943-51c98e2f6526"
      },
      "source": [
        "!git clone https://github.com/sleuoth-hof/trading_2019.git"
      ],
      "execution_count": 78,
      "outputs": [
        {
          "output_type": "stream",
          "text": [
            "fatal: destination path 'trading_2019' already exists and is not an empty directory.\n"
          ],
          "name": "stdout"
        }
      ]
    },
    {
      "cell_type": "code",
      "metadata": {
        "id": "bK8nD77hQGX_",
        "colab_type": "code",
        "colab": {}
      },
      "source": [
        "\n",
        "import csv\n",
        "\n",
        "with open('trading_2019/TradingBot/Code/v1/coins_1.csv', 'r') as _filehandler:\n",
        "  csv_file_reader = csv.DictReader(_filehandler)\n",
        "\n",
        "  for row in csv_file_reader:\n",
        "    coin = Wertpapier(row['id'], row['name'], row['short'], row['date'], row['course'])\n",
        "    coins.append(coin)\n",
        "  "
      ],
      "execution_count": 0,
      "outputs": []
    },
    {
      "cell_type": "code",
      "metadata": {
        "id": "k54StZU8RfpU",
        "colab_type": "code",
        "colab": {
          "base_uri": "https://localhost:8080/",
          "height": 102
        },
        "outputId": "c438e1c9-2d8c-4468-cc43-493c93172e1c"
      },
      "source": [
        "for coin in coins:\n",
        "  print(\":: \" + coin.name + \" (\" + coin.short +\")\" + \" am: \" + coin.date + \" - \" + coin.course)"
      ],
      "execution_count": 80,
      "outputs": [
        {
          "output_type": "stream",
          "text": [
            ":: Bitcoin (BTC) am: 20191214 - 7065.3398\n",
            ":: Ethereum (ETH) am: 20191214 - 141.4040\n",
            ":: Ripple (XRP) am: 20191214 - 0.2153\n",
            ":: Tether (USDT) am: 20191214 - 1.0066\n",
            ":: Litecoin (LTC) am: 20191214 - 43.1805\n"
          ],
          "name": "stdout"
        }
      ]
    },
    {
      "cell_type": "code",
      "metadata": {
        "id": "gYG_f6rMhgpT",
        "colab_type": "code",
        "colab": {}
      },
      "source": [
        "testUser = User(0, \"Max Mustermann\", 1000.00, [])\n",
        "buyValue = 0.0\n",
        "\n",
        "strategie123 = Strategie(0, \"123\", coins[0], \"K1\")\n",
        "strategie234 = Strategie(0, \"234\", coins[0], \"V1\")\n",
        "allStrategies = [strategie123, strategie234]\n",
        "\n",
        "### Kaufen von Menge x :: (Wertpapier) \n",
        "\n",
        "def buy(sum, wp):\n",
        "  print(\"buy \" + str(sum) + \" of \" + wp.short)\n",
        "\n",
        "### Verkaufen von Menge x :: (Wertpapier) \n",
        "\n",
        "def sell(sum, wp):\n",
        "  print(\"sell \" + str(sum) + \" of \" + wp.short)\n",
        "\n",
        "### Mit wie viel wurde eingekauft :: (Wertpapier) \n",
        "\n",
        "def getAmountAtMarket(wp):\n",
        "  for trade in testUser.trades:\n",
        "    if trade.wp.id == wp.id:\n",
        "      return trade.amount\n",
        "    else: return 0\n",
        "\n",
        "### Suchen der Strategie in Programm :: (Strategie)\n",
        "\n",
        "def getStrategie(id):\n",
        "  for s in allStrategies:\n",
        "    if s.name == id:\n",
        "      return s\n",
        "\n",
        "### Zuweisen an Nutzer :: (Trade)\n",
        "\n",
        "def addTradeToUser(buyValue, wp):\n",
        "  newTrade = Trade(0, \"20191213\", wp, buyValue)\n",
        "  testUser.trades.append(newTrade)\n",
        "\n",
        "### Handeln nach passender Strategie\n",
        "\n",
        "def actWithStrat(strategie):\n",
        "\n",
        "  if strategie.signal == \"V0\":\n",
        "    print(\":::VERKAUFEN\")\n",
        "    atMarket = getAmountAtMarket(strategie.wp)\n",
        "    print(\"::AUF DEM MARKT -> \" + str(atMarket))\n",
        "    sell((atMarket/4), strategie.wp)\n",
        "\n",
        "  elif strategie.signal == \"V1\":\n",
        "    print(\":::VERKAUFEN\")\n",
        "    atMarket = getAmountAtMarket(strategie.wp)\n",
        "    print(\"::AUF DEM MARKT -> \" + str(atMarket))\n",
        "    sell((atMarket/3), strategie.wp)\n",
        "\n",
        "  elif strategie.signal == \"V2\":\n",
        "    print(\":::VERKAUFEN\")\n",
        "    atMarket = getAmountAtMarket(strategie.wp)\n",
        "    print(\"::AUF DEM MARKT -> \" + str(atMarket))\n",
        "    sell((atMarket/2), strategie.wp)\n",
        "\n",
        "  elif strategie.signal == \"V3\":\n",
        "    print(\":::VERKAUFEN\")\n",
        "    atMarket = getAmountAtMarket(strategie.wp)\n",
        "    print(\"::AUF DEM MARKT -> \" + str(atMarket))\n",
        "    sell((atMarket), strategie.wp)\n",
        "\n",
        "  elif strategie.signal == \"K0\":\n",
        "    print(\":::KAUFEN\")\n",
        "    buyValue = testUser.budget / 4\n",
        "    testUser.budget = testUser.budget - buyValue\n",
        "    buy(buyValue, strategie.wp)\n",
        "    addTradeToUser(buyValue, strategie.wp)\n",
        "\n",
        "  elif strategie.signal == \"K1\":\n",
        "    print(\":::KAUFEN\")\n",
        "    buyValue = testUser.budget / 3\n",
        "    testUser.budget = testUser.budget - buyValue\n",
        "    buy(buyValue, strategie.wp)\n",
        "    addTradeToUser(buyValue, strategie.wp)\n",
        "\n",
        "  elif strategie.signal == \"K2\":\n",
        "    print(\":::STARK KAUFEN\")\n",
        "    buyValue = testUser.budget / 2\n",
        "    testUser.budget = testUser.budget - buyValue\n",
        "    buy(buyValue, strategie.wp)\n",
        "    addTradeToUser(buyValue, strategie.wp)\n",
        "\n",
        "  elif strategie.signal == \"K3\":\n",
        "    print(\":::STARK KAUFEN\")\n",
        "    buyValue = testUser.budget\n",
        "    testUser.budget = testUser.budget - buyValue\n",
        "    buy(buyValue, strategie.wp)\n",
        "    addTradeToUser(buyValue, strategie.wp)\n",
        "\n",
        "  else:\n",
        "\n",
        "    print(\":::HALTEN\")\n",
        "    "
      ],
      "execution_count": 0,
      "outputs": []
    },
    {
      "cell_type": "code",
      "metadata": {
        "id": "BgnoAD2fL7NU",
        "colab_type": "code",
        "outputId": "21047186-f53a-4918-b135-20ee90946afa",
        "colab": {
          "base_uri": "https://localhost:8080/",
          "height": 51
        }
      },
      "source": [
        "actWithStrat(allStrategies[0])\n",
        "\n"
      ],
      "execution_count": 82,
      "outputs": [
        {
          "output_type": "stream",
          "text": [
            ":::KAUFEN\n",
            "buy 333.3333333333333 of BTC\n"
          ],
          "name": "stdout"
        }
      ]
    },
    {
      "cell_type": "code",
      "metadata": {
        "id": "pIIgzILKWfJf",
        "colab_type": "code",
        "colab": {
          "base_uri": "https://localhost:8080/",
          "height": 68
        },
        "outputId": "6a101eaf-87ac-4e9c-b483-4ace9f07aebe"
      },
      "source": [
        "actWithStrat(allStrategies[1])"
      ],
      "execution_count": 83,
      "outputs": [
        {
          "output_type": "stream",
          "text": [
            ":::VERKAUFEN\n",
            "::AUF DEM MARKT -> 333.3333333333333\n",
            "sell 111.1111111111111 of BTC\n"
          ],
          "name": "stdout"
        }
      ]
    },
    {
      "cell_type": "code",
      "metadata": {
        "id": "CS347dKXL9N7",
        "colab_type": "code",
        "outputId": "1dbd7ae5-d266-4035-c791-b1035fbb1b3e",
        "colab": {
          "base_uri": "https://localhost:8080/",
          "height": 34
        }
      },
      "source": [
        "for trade in testUser.trades:\n",
        "  print(\":: TRADE :: am \" + trade.date + \" :: Wertpapier: \" + trade.wp.short + \" :: Einsatz/Kurs: \" + str(trade.amount) + \" / \" + str(trade.wp.course))"
      ],
      "execution_count": 84,
      "outputs": [
        {
          "output_type": "stream",
          "text": [
            ":: TRADE :: am 20191213 :: Wertpapier: BTC :: Einsatz/Kurs: 333.3333333333333 / 7065.3398\n"
          ],
          "name": "stdout"
        }
      ]
    },
    {
      "cell_type": "code",
      "metadata": {
        "id": "yjzkWnz_Zn80",
        "colab_type": "code",
        "colab": {}
      },
      "source": [
        "einstellung1 = \"1: Placeholder\"\n",
        "einstellung2 = \"2: Placeholder\"\n",
        "einstellung3 = \"3: Placeholder\"\n",
        "einstellungen = [einstellung1, einstellung2, einstellung3]\n",
        "\n",
        "def printEinstellungen():\n",
        "  print(\":: EINSTELLUNGEN\")\n",
        "  for e in einstellungen:\n",
        "    print(e)\n",
        "  print()\n",
        "  print(\"0: Zurück\")\n",
        "  print()"
      ],
      "execution_count": 0,
      "outputs": []
    },
    {
      "cell_type": "code",
      "metadata": {
        "id": "1rtI_yZiZzBL",
        "colab_type": "code",
        "colab": {}
      },
      "source": [
        "strategie1 = [\"1: Strategie #1\", \"123\"]\n",
        "strategie2 = [\"2: Strategie #2\", \"234\"]\n",
        "strategie3 = [\"3: Strategie #3\", \"345\"]\n",
        "strategien = [strategie1, strategie2, strategie3]\n",
        "\n",
        "def printStrategien():\n",
        "  print(\":: STRATEGIEN\")\n",
        "  for s in strategien:\n",
        "    print(s[0])\n",
        "  print()\n",
        "  print(\"0: Zurück\")\n",
        "  print()\n",
        "\n",
        "def runStrategie(id):\n",
        "  strat = getStrategie(strategien[id-1][1])\n",
        "\n",
        "  actWithStrat(strat)"
      ],
      "execution_count": 0,
      "outputs": []
    },
    {
      "cell_type": "code",
      "metadata": {
        "id": "wBXRtRSEZ2h6",
        "colab_type": "code",
        "colab": {}
      },
      "source": [
        "budget1 = \"1: Guthaben\"\n",
        "budget2 = \"2: Einzahlung\"\n",
        "budget3 = \"3: Zahlungsverlauf\"\n",
        "budgets = [budget1, budget2, budget3]\n",
        "\n",
        "def printBudgets():\n",
        "  print(\":: BUDGET\")\n",
        "  for b in budgets:\n",
        "    print(b)\n",
        "  print()\n",
        "  print(\"0: Zurück\")\n",
        "  print()\n"
      ],
      "execution_count": 0,
      "outputs": []
    },
    {
      "cell_type": "code",
      "metadata": {
        "id": "nftJalBWWxuH",
        "colab_type": "code",
        "outputId": "731c0454-4746-4268-85db-2fe686848f19",
        "colab": {
          "base_uri": "https://localhost:8080/",
          "height": 459
        }
      },
      "source": [
        "menu1 = \"1: Einstellungen\"\n",
        "menu2 = \"2: Strategien\"\n",
        "menu3 = \"3: Budget\"\n",
        "\n",
        "menu = [menu1, menu2, menu3]\n",
        "\n",
        "def printMenu():\n",
        "  print(\":: TRADING BOT\")\n",
        "  for m in menu:\n",
        "    print(m)\n",
        "  print()\n",
        "\n",
        "printMenu()\n",
        "\n",
        "printEinstellungen()\n",
        "\n",
        "printStrategien()\n",
        "\n",
        "printBudgets()"
      ],
      "execution_count": 88,
      "outputs": [
        {
          "output_type": "stream",
          "text": [
            ":: TRADING BOT\n",
            "1: Einstellungen\n",
            "2: Strategien\n",
            "3: Budget\n",
            "\n",
            ":: EINSTELLUNGEN\n",
            "1: Placeholder\n",
            "2: Placeholder\n",
            "3: Placeholder\n",
            "\n",
            "0: Zurück\n",
            "\n",
            ":: STRATEGIEN\n",
            "1: Strategie #1\n",
            "2: Strategie #2\n",
            "3: Strategie #3\n",
            "\n",
            "0: Zurück\n",
            "\n",
            ":: BUDGET\n",
            "1: Guthaben\n",
            "2: Einzahlung\n",
            "3: Zahlungsverlauf\n",
            "\n",
            "0: Zurück\n",
            "\n"
          ],
          "name": "stdout"
        }
      ]
    }
  ]
}