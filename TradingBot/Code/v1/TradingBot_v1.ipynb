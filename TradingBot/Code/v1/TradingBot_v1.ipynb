{
  "nbformat": 4,
  "nbformat_minor": 0,
  "metadata": {
    "colab": {
      "name": "TradingBot_v1.ipynb",
      "provenance": [],
      "collapsed_sections": []
    },
    "kernelspec": {
      "name": "python3",
      "display_name": "Python 3"
    }
  },
  "cells": [
    {
      "cell_type": "markdown",
      "metadata": {
        "id": "JlBMPH5OYt5r",
        "colab_type": "text"
      },
      "source": [
        "Daten aus Spark werden in einem File abgelegt.\n",
        "\n",
        "*   .csv auslesen\n",
        "*   Startdatum festlegen\n",
        "\n",
        "    -> Daten für diesen Tag vorhanden :: nehmen dieser Daten\n",
        "    -> Daten nicht vorhanden :: suchen nahegelegendsten Tag\n",
        "\n",
        "\n"
      ]
    },
    {
      "cell_type": "markdown",
      "metadata": {
        "id": "mODKJ0RinqPp",
        "colab_type": "text"
      },
      "source": [
        "**Klassen**\n",
        "\n",
        "* **User** - id, Name, Guthaben\n",
        "* **Strategie** - id, Name, Wertpapier, Signal\n",
        "* **Wertpapier** - id, Name, Shortcut, Start, Kurs"
      ]
    },
    {
      "cell_type": "code",
      "metadata": {
        "id": "BK3xmt4RZukt",
        "colab_type": "code",
        "colab": {}
      },
      "source": [
        "class User:\n",
        "  def __init__(self, id, name, budget):\n",
        "    self.id = id\n",
        "    self.name = name\n",
        "    self.budget = budget\n",
        "\n",
        "class Strategie:\n",
        "  def __init__(self, id, name, wp, signal):\n",
        "    self.id = id\n",
        "    self.name = name\n",
        "    self.wp = wp\n",
        "    self.signal = signal\n",
        "\n",
        "class Wertpapier:\n",
        "  def __init__(self, id, name, short, start, course):\n",
        "    self.id = id\n",
        "    self.name = name\n",
        "    self.short = short\n",
        "    self.start = start\n",
        "    self.course = course"
      ],
      "execution_count": 0,
      "outputs": []
    },
    {
      "cell_type": "markdown",
      "metadata": {
        "id": "VW-IVw8HqPBd",
        "colab_type": "text"
      },
      "source": [
        "**TRENDS**\n",
        "\n",
        "* Abwärtstrend\n",
        "* Aufwärtstrend\n",
        "---\n",
        "**VERKAUFSIGNALE**\n",
        "\n",
        "> Indikatoren liefern ein Signalschema welches in 4 Sektoren gegliedert werden kann. V für Verkaufen, K für Kaufen, H für Halten. Skala beginnt bei 0 (??) und endet bei 3 (??)\n",
        "\n",
        "* **VERKAUFEN - KAUFEN - HALTEN** \n",
        "\n",
        "Signal | Definition\n",
        "--- | ---\n",
        "**VO** | erstes Verkaufsignal\n",
        "**V1** | zweites Verkaufsignal\n",
        "**V2** | drittes Verkaufsignal\n",
        "**V3** | viertes Verkaufsignal\n",
        "\n",
        "Signal | Definition\n",
        "--- | ---\n",
        "**KO** | erstes Kaufsignal\n",
        "**K1** | zweites Kaufsignal\n",
        "**K2** | drittes Kaufsignal\n",
        "**K3** | viertes Kaufsignal\n",
        "\n",
        "Signal | Definition\n",
        "--- | ---\n",
        "**HO** | erstes Haltesignal\n",
        "**H1** | zweites Haltesignal\n",
        "**H2** | drittes Haltesignal\n",
        "**H3** | viertes Haltesignal\n",
        "\n",
        "---"
      ]
    },
    {
      "cell_type": "code",
      "metadata": {
        "id": "gYG_f6rMhgpT",
        "colab_type": "code",
        "outputId": "5a836f6b-f599-44c0-af90-4724d35c0e81",
        "colab": {
          "base_uri": "https://localhost:8080/",
          "height": 68
        }
      },
      "source": [
        "testUser = User(0, \"Max Mustermann\", 1000.00)\n",
        "buyValue = 0.0\n",
        "\n",
        "btc = Wertpapier(1, \"Bitcoin\", \"BTC\", \"20180101\", 9545.30)\n",
        "\n",
        "strategie123 = Strategie(0, \"123\", btc, \"K2\")\n",
        "allStrategies = [strategie123]\n",
        "\n",
        "def makeDecision(listOfPapers, signals):\n",
        "  print(\"make decision\")\n",
        "\n",
        "def buy(sum, wp):\n",
        "  print(\"buy \" + str(sum) + \" of \" + wp.short)\n",
        "\n",
        "def sell(sum, wp):\n",
        "  print(\"sell \" + str(sum) + \" of \" + wp.short)\n",
        "\n",
        "def getAmountAtMarket(wp):\n",
        "  print(\"hole gekaufte menge von wp: \" + wp)\n",
        "  return 1.2345\n",
        "\n",
        "def getStrategie(id):\n",
        "  for s in allStrategies:\n",
        "    if s.name == id:\n",
        "      return s\n",
        "\n",
        "def actWithStrat(strategie):\n",
        "\n",
        "  if strategie.signal == \"V1\":\n",
        "    print(\":::VERKAUFEN\")\n",
        "    atMarket = getAmountAtMarket(strategie.wp.short)\n",
        "    print(\"::AUF DEM MARKT -> \" + str(atMarket))\n",
        "    sell((atMarket/2), btc)\n",
        "  elif strategie.signal == \"V2\":\n",
        "    print(\":::STARK VERKAUFEN\")\n",
        "    atMarket = getAmountAtMarket(strategie.wp.short)\n",
        "    print(\"::AUF DEM MARKT\" + str(atMarket))\n",
        "    buy(atMarket, btc)\n",
        "  elif strategie.signal == \"K1\":\n",
        "    print(\":::KAUFEN\")\n",
        "    buyValue = testUser.budget / 2\n",
        "    testUser.budget = testUser.budget - buyValue\n",
        "    buy(buyValue, btc)\n",
        "  elif strategie.signal == \"K2\":\n",
        "    print(\":::STARK KAUFEN\")\n",
        "    buyValue = testUser.budget\n",
        "    testUser.budget = testUser.budget - buyValue\n",
        "    buy(buyValue, btc)\n",
        "  else:\n",
        "    print(\":::HALTEN\")\n",
        "\n",
        "print(\"::: USER :::\")\n",
        "print(testUser.name)\n",
        "print(testUser.budget)"
      ],
      "execution_count": 56,
      "outputs": [
        {
          "output_type": "stream",
          "text": [
            "::: USER :::\n",
            "Max Mustermann\n",
            "1000.0\n"
          ],
          "name": "stdout"
        }
      ]
    },
    {
      "cell_type": "code",
      "metadata": {
        "id": "yjzkWnz_Zn80",
        "colab_type": "code",
        "colab": {}
      },
      "source": [
        "einstellung1 = \"1: Placeholder\"\n",
        "einstellung2 = \"2: Placeholder\"\n",
        "einstellung3 = \"3: Placeholder\"\n",
        "einstellungen = [einstellung1, einstellung2, einstellung3]\n",
        "\n",
        "def printEinstellungen():\n",
        "  print(\":: EINSTELLUNGEN\")\n",
        "  for e in einstellungen:\n",
        "    print(e)\n",
        "  print()\n",
        "  print(\"0: Zurück\")"
      ],
      "execution_count": 0,
      "outputs": []
    },
    {
      "cell_type": "code",
      "metadata": {
        "id": "1rtI_yZiZzBL",
        "colab_type": "code",
        "colab": {}
      },
      "source": [
        "strategie1 = [\"1: Strategie #1\", \"123\"]\n",
        "strategie2 = [\"2: Strategie #2\", \"234\"]\n",
        "strategie3 = [\"3: Strategie #3\", \"345\"]\n",
        "strategien = [strategie1, strategie2, strategie3]\n",
        "\n",
        "def printStrategien():\n",
        "  print(\":: STRATEGIEN\")\n",
        "  for s in strategien:\n",
        "    print(s[0])\n",
        "  print()\n",
        "  print(\"0: Zurück\")\n",
        "\n",
        "def showStrategie(id):\n",
        "  print(\":: \" + strategien[id-1][0])\n",
        "  print(\"   Erklärung der Strategie\")\n",
        "  print(\"1: Start\")\n",
        "  print()\n",
        "  print(\"0: Zurück\")\n",
        "\n",
        "def runStrategie(id):\n",
        "  strat = getStrategie(strategien[id-1][1])\n",
        "\n",
        "  actWithStrat(strat)"
      ],
      "execution_count": 0,
      "outputs": []
    },
    {
      "cell_type": "code",
      "metadata": {
        "id": "wBXRtRSEZ2h6",
        "colab_type": "code",
        "colab": {}
      },
      "source": [
        "budget1 = \"1: Guthaben\"\n",
        "budget2 = \"2: Einzahlung\"\n",
        "budget3 = \"3: Zahlungsverlauf\"\n",
        "budgets = [budget1, budget2, budget3]\n",
        "\n",
        "def printBudgets():\n",
        "  print(\":: BUDGET\")\n",
        "  for b in budgets:\n",
        "    print(b)\n",
        "  print()\n",
        "  print(\"0: Zurück\")\n",
        "def showGuthaben():\n",
        "  print(\":: AKTUELLES GUTHABEN\")\n",
        "  print(\"   1000,00 EUR\")\n",
        "  print()\n",
        "  print(\"0: Zurück\")"
      ],
      "execution_count": 0,
      "outputs": []
    },
    {
      "cell_type": "code",
      "metadata": {
        "id": "nftJalBWWxuH",
        "colab_type": "code",
        "outputId": "af0c3660-2cb5-4383-ae8b-6d1dcd445b86",
        "colab": {
          "base_uri": "https://localhost:8080/",
          "height": 106
        }
      },
      "source": [
        "menu1 = \"1: Einstellungen\"\n",
        "menu2 = \"2: Strategien\"\n",
        "menu3 = \"3: Budget\"\n",
        "\n",
        "menu = [menu1, menu2, menu3]\n",
        "\n",
        "def printMenu():\n",
        "  for m in menu:\n",
        "    print(m)\n",
        "\n",
        "printMenu()\n",
        "\n",
        "\n",
        "showEinstellungen = -1\n",
        "showStrategien = -1\n",
        "showBudgets = -1\n",
        "\n",
        "while True:\n",
        "  cursor = int(input(\"Bitte wählen Sie: \"))\n",
        "\n",
        "  if cursor < 0: print(\":: ERROR\")\n",
        "  elif cursor == 1: showEinstellungen = 1\n",
        "  elif cursor == 2: showStrategien = 1\n",
        "  elif cursor == 3: showBudget = 1\n",
        "\n",
        "  if showEinstellungen == 1:\n",
        "    printEinstellungen()\n",
        "\n",
        "    cursor = int(input(\"Bitte wählen Sie: \"))\n",
        "    if cursor == 1: showGuthaben()\n",
        "    cursor = int(input(\"Bitte wählen Sie: \"))\n",
        "    if cursor == 0: printBudgets()\n",
        "\n",
        "  elif showStrategien == 1:\n",
        "    printStrategien()\n",
        "\n",
        "    cursor = int(input(\"Bitte wählen Sie: \"))\n",
        "    if cursor == 1: \n",
        "      showStrategie(cursor)\n",
        "      cursor = int(input(\"Bitte wählen Sie: \"))\n",
        "      if cursor == 0: \n",
        "        printMenu()\n",
        "      if cursor == 1:\n",
        "        runStrategie(cursor)\n",
        "\n",
        "  elif showBudget == 1:\n",
        "    printBudgets()\n",
        "\n",
        "    cursor = int(input(\"Bitte wählen Sie: \"))\n",
        "    if cursor == 0: \n",
        "        printMenu()\n",
        "    if cursor == 1: \n",
        "      showGuthaben()\n",
        "      cursor = int(input(\"Bitte wählen Sie: \"))\n",
        "      if cursor == 0: \n",
        "        printBudgets()"
      ],
      "execution_count": 0,
      "outputs": [
        {
          "output_type": "stream",
          "text": [
            "1: Einstellungen\n",
            "2: Strategien\n",
            "3: Budget\n"
          ],
          "name": "stdout"
        }
      ]
    }
  ]
}