{
  "nbformat": 4,
  "nbformat_minor": 0,
  "metadata": {
    "colab": {
      "name": "TradingBot_v1.ipynb",
      "provenance": [],
      "collapsed_sections": []
    },
    "kernelspec": {
      "name": "python3",
      "display_name": "Python 3"
    }
  },
  "cells": [
    {
      "cell_type": "markdown",
      "metadata": {
        "id": "JlBMPH5OYt5r",
        "colab_type": "text"
      },
      "source": [
        "# **Trading Bot**\n",
        "\n",
        "> Studienarbeit in Applied Big Data Analytics. Umsetzung eines Trading-Bots mit Hilfe von Strategien und Auswertung von Wertpapieren.\n",
        "\n",
        "*   **Einführung**\n",
        "*   **Klassen**\n",
        "*   **Funktionalität**\n",
        "*   **Tests**"
      ]
    },
    {
      "cell_type": "markdown",
      "metadata": {
        "id": "FfkPmz07RsKq",
        "colab_type": "text"
      },
      "source": [
        "## **Einführung**\n",
        "\n",
        "> Der Trading-Bot ist das Bindeglied zwischen Logik und Aktion. Die API liefert Strategien, die Signale für das Kaufen oder Verkaufen von Wertpapieren beinhalten. Mit diesen Signalen kann automatisch gehandelt werden.\n",
        "\n",
        "*   **Vorteile**\n",
        "\n",
        "    1.   Minimieren von Emotionen\n",
        "    > Keine Emotionen beim Handeln, kein voreiliges Verkaufen\n",
        "\n",
        "    2.   Disziplin\n",
        "    > Bot hält sich an Vorgaben, kein Erzwingen von Profit möglich, Fehlkäufe unterbinden\n",
        "\n",
        "    3.   Backtesting\n",
        "    > Test mit historischen Daten, Test kann Fehler dezimieren\n",
        "\n",
        "    4.   Schnelles Agieren\n",
        "    > Trades werden SOFORT durchgeführt, erreichen von Stop-Loss oder Profit-Targets führen Trade aus\n",
        "\n",
        "*   **Nachteile**\n",
        "\n",
        "    1.   Systemfehler\n",
        "    > Internetverbindung unterbrochen\n",
        "\n",
        "    2.   Überwachung\n",
        "    > System muss stets überwacht werden\n",
        "\n",
        "    3.   Überoptimierung\n",
        "    > Auf Papier großartige Strategie, Backtests zeigen Schwachstellen auf\n",
        "\n",
        "    4.   Betrug\n",
        "    > Oft sind Angebote für Bots zu gut um wahr zu sein!\n",
        "\n"
      ]
    },
    {
      "cell_type": "markdown",
      "metadata": {
        "id": "FnbuiQonQhtZ",
        "colab_type": "text"
      },
      "source": [
        "## **Klassen**\n",
        "\n",
        "> Nachfolgend werden alle Klassen, die in diesem Programm verwendet und gebraucht werden beschrieben."
      ]
    },
    {
      "cell_type": "markdown",
      "metadata": {
        "id": "mODKJ0RinqPp",
        "colab_type": "text"
      },
      "source": [
        "### **User**\n",
        "\n",
        "> Nutzer, der sich mit Hilfe dieses Bots am Tradingmarkt beteiligen möchte. Aktuell wird mit historischen Daten gehandelt. Ziel ist es, über eine API von *Bittrex* oder ähnlichem am Live-Markt Trades durchzuführen.\n",
        "\n",
        "* **User** - id, Name, Guthaben"
      ]
    },
    {
      "cell_type": "code",
      "metadata": {
        "id": "qjfEVu94PpZD",
        "colab_type": "code",
        "colab": {}
      },
      "source": [
        "class User:\n",
        "  def __init__(self, id, name, budget, trades):\n",
        "    self.id = id\n",
        "    self.name = name\n",
        "    self.budget = budget\n",
        "    self.trades = trades"
      ],
      "execution_count": 0,
      "outputs": []
    },
    {
      "cell_type": "markdown",
      "metadata": {
        "id": "HZF81AubPzyD",
        "colab_type": "text"
      },
      "source": [
        "### **Strategie**\n",
        "\n",
        "> Die API liefert fertige Strategien, die ein Signal und ein Wertpapier beinhalten. Mittels dieses Signals werden Trades geöffnet oder geschlossen.\n",
        "\n",
        "* **Strategie** - id, Name, Wertpapier, Signal"
      ]
    },
    {
      "cell_type": "code",
      "metadata": {
        "id": "rsLUmGutPrYx",
        "colab_type": "code",
        "colab": {}
      },
      "source": [
        "class Strategie:\n",
        "  def __init__(self, id, name, wp, signal):\n",
        "    self.id = id\n",
        "    self.name = name\n",
        "    self.wp = wp\n",
        "    self.signal = signal"
      ],
      "execution_count": 0,
      "outputs": []
    },
    {
      "cell_type": "markdown",
      "metadata": {
        "id": "IX7FhoBOP1p0",
        "colab_type": "text"
      },
      "source": [
        "### **Trade**\n",
        "\n",
        "> Ein Trade ist eine Aktion die am Handelsmarkt durchgeführt wird. Hier werden unter anderem das Datum des Trades, das dabei verwendete Wertpapier und die Menge, die gehandelt wurde angegeben.\n",
        "\n",
        "* **Trade** - id, Datum des Trades, Wertpapier, Menge"
      ]
    },
    {
      "cell_type": "code",
      "metadata": {
        "id": "05e-V_JOPsiV",
        "colab_type": "code",
        "colab": {}
      },
      "source": [
        "class Trade:\n",
        "  def __init__(self, id, date, wp, amount):\n",
        "    self.id = id\n",
        "    self.date = date\n",
        "    self.wp = wp\n",
        "    self.amount = amount"
      ],
      "execution_count": 0,
      "outputs": []
    },
    {
      "cell_type": "markdown",
      "metadata": {
        "id": "l3uocQVwP_jn",
        "colab_type": "text"
      },
      "source": [
        "### **Wertpapier**\n",
        "\n",
        "> Wertpapiere sind die verschiedenen zur Verfügung stehenden Anlangen, wie z.B. *BTC* oder ähnliches.\n",
        "\n",
        "* **Wertpapier** - id, Name, Shortcut, Datum, aktueller Kurs"
      ]
    },
    {
      "cell_type": "code",
      "metadata": {
        "id": "AzWjO_2PPvec",
        "colab_type": "code",
        "colab": {}
      },
      "source": [
        "class Wertpapier:\n",
        "  def __init__(self, id, name, short, date, course):\n",
        "    self.id = id\n",
        "    self.name = name\n",
        "    self.short = short\n",
        "    self.date = date\n",
        "    self.course = course"
      ],
      "execution_count": 0,
      "outputs": []
    },
    {
      "cell_type": "code",
      "metadata": {
        "id": "BK3xmt4RZukt",
        "colab_type": "code",
        "colab": {}
      },
      "source": [
        "coins = []"
      ],
      "execution_count": 0,
      "outputs": []
    },
    {
      "cell_type": "markdown",
      "metadata": {
        "id": "IaXBlCWXUbM4",
        "colab_type": "text"
      },
      "source": [
        "## **Funktionalität**\n",
        "\n",
        "> Nachfolgend werden alle Funktionen, die das Auswerten der Strategien von der API ermöglichen und wie welche Signale umgesetzt werden, beschrieben."
      ]
    },
    {
      "cell_type": "markdown",
      "metadata": {
        "id": "VW-IVw8HqPBd",
        "colab_type": "text"
      },
      "source": [
        "### **Trends**\n",
        "\n",
        "> Beschreibung von Trends einfügen."
      ]
    },
    {
      "cell_type": "markdown",
      "metadata": {
        "id": "-MUA7tI0VU7g",
        "colab_type": "text"
      },
      "source": [
        "* **Abwärtstrend**\n",
        "\n",
        "> Beschreibung Abwärtstrend"
      ]
    },
    {
      "cell_type": "markdown",
      "metadata": {
        "id": "ogrb6KVWVDc1",
        "colab_type": "text"
      },
      "source": [
        "* **Aufwärtstrend**\n",
        "\n",
        "> Beschreibung Aufwärtstrend\n"
      ]
    },
    {
      "cell_type": "markdown",
      "metadata": {
        "id": "UhGGBSBhVdp0",
        "colab_type": "text"
      },
      "source": [
        "### ***Signale***\n",
        "\n",
        "> Beschreibung Signale einfügen."
      ]
    },
    {
      "cell_type": "markdown",
      "metadata": {
        "id": "snKXi8NpVS-Q",
        "colab_type": "text"
      },
      "source": [
        "* **Verkaufen**\n",
        "\n",
        "> Beschreibung Verkaufen\n",
        "\n",
        "Signal | Definition\n",
        "--- | ---\n",
        "**VO** | erstes Verkaufsignal\n",
        "**V1** | zweites Verkaufsignal\n",
        "**V2** | drittes Verkaufsignal\n",
        "**V3** | viertes Verkaufsignal"
      ]
    },
    {
      "cell_type": "markdown",
      "metadata": {
        "id": "zPEm2pGiVrNd",
        "colab_type": "text"
      },
      "source": [
        "* **Kaufen**\n",
        "\n",
        "> Beschreibung Kaufen\n",
        "\n",
        "Signal | Definition\n",
        "--- | ---\n",
        "**KO** | erstes Kaufsignal\n",
        "**K1** | zweites Kaufsignal\n",
        "**K2** | drittes Kaufsignal\n",
        "**K3** | viertes Kaufsignal\n",
        "\n"
      ]
    },
    {
      "cell_type": "markdown",
      "metadata": {
        "id": "eM2yR-d2Vw-c",
        "colab_type": "text"
      },
      "source": [
        "* **Halten**\n",
        "\n",
        "> Beschreibung Halten\n",
        "\n",
        "Signal | Definition\n",
        "--- | ---\n",
        "**HO** | erstes Haltesignal\n",
        "**H1** | zweites Haltesignal\n",
        "**H2** | drittes Haltesignal\n",
        "**H3** | viertes Haltesignal\n",
        "\n",
        "---"
      ]
    },
    {
      "cell_type": "code",
      "metadata": {
        "id": "gYG_f6rMhgpT",
        "colab_type": "code",
        "colab": {}
      },
      "source": [
        "### Kaufen von Menge x :: (Wertpapier) \n",
        "\n",
        "def buy(sum, wp):\n",
        "  print(\"buy \" + str(sum) + \" of \" + wp.short)\n",
        "\n",
        "### Verkaufen von Menge x :: (Wertpapier) \n",
        "\n",
        "def sell(sum, wp):\n",
        "  print(\"sell \" + str(sum) + \" of \" + wp.short)\n",
        "\n",
        "### Mit wie viel wurde eingekauft :: (Wertpapier) \n",
        "\n",
        "def getAmountAtMarket(wp):\n",
        "  for trade in testUser.trades:\n",
        "    if trade.wp.id == wp.id:\n",
        "      return trade.amount\n",
        "    else: return 0\n",
        "\n",
        "### Suchen der Strategie in Programm :: (Strategie)\n",
        "\n",
        "def getStrategie(id):\n",
        "  for s in allStrategies:\n",
        "    if s.name == id:\n",
        "      return s\n",
        "\n",
        "### Zuweisen an Nutzer :: (Trade)\n",
        "\n",
        "def addTradeToUser(buyValue, wp):\n",
        "  newTrade = Trade(0, \"20191213\", wp, buyValue)\n",
        "  testUser.trades.append(newTrade)\n",
        "\n",
        "### Handeln nach passender Strategie\n",
        "\n",
        "def actWithStrat(strategie):\n",
        "\n",
        "  if strategie.signal == \"V0\":\n",
        "    print(\":::VERKAUFEN\")\n",
        "    atMarket = getAmountAtMarket(strategie.wp)\n",
        "    print(\"::AUF DEM MARKT -> \" + str(atMarket))\n",
        "    sell((atMarket/4), strategie.wp)\n",
        "\n",
        "  elif strategie.signal == \"V1\":\n",
        "    print(\":::VERKAUFEN\")\n",
        "    atMarket = getAmountAtMarket(strategie.wp)\n",
        "    print(\"::AUF DEM MARKT -> \" + str(atMarket))\n",
        "    sell((atMarket/3), strategie.wp)\n",
        "\n",
        "  elif strategie.signal == \"V2\":\n",
        "    print(\":::VERKAUFEN\")\n",
        "    atMarket = getAmountAtMarket(strategie.wp)\n",
        "    print(\"::AUF DEM MARKT -> \" + str(atMarket))\n",
        "    sell((atMarket/2), strategie.wp)\n",
        "\n",
        "  elif strategie.signal == \"V3\":\n",
        "    print(\":::VERKAUFEN\")\n",
        "    atMarket = getAmountAtMarket(strategie.wp)\n",
        "    print(\"::AUF DEM MARKT -> \" + str(atMarket))\n",
        "    sell((atMarket), strategie.wp)\n",
        "\n",
        "  elif strategie.signal == \"K0\":\n",
        "    print(\":::KAUFEN\")\n",
        "    buyValue = testUser.budget / 4\n",
        "    testUser.budget = testUser.budget - buyValue\n",
        "    buy(buyValue, strategie.wp)\n",
        "    addTradeToUser(buyValue, strategie.wp)\n",
        "\n",
        "  elif strategie.signal == \"K1\":\n",
        "    print(\":::KAUFEN\")\n",
        "    buyValue = testUser.budget / 3\n",
        "    testUser.budget = testUser.budget - buyValue\n",
        "    buy(buyValue, strategie.wp)\n",
        "    addTradeToUser(buyValue, strategie.wp)\n",
        "\n",
        "  elif strategie.signal == \"K2\":\n",
        "    print(\":::STARK KAUFEN\")\n",
        "    buyValue = testUser.budget / 2\n",
        "    testUser.budget = testUser.budget - buyValue\n",
        "    buy(buyValue, strategie.wp)\n",
        "    addTradeToUser(buyValue, strategie.wp)\n",
        "\n",
        "  elif strategie.signal == \"K3\":\n",
        "    print(\":::STARK KAUFEN\")\n",
        "    buyValue = testUser.budget\n",
        "    testUser.budget = testUser.budget - buyValue\n",
        "    buy(buyValue, strategie.wp)\n",
        "    addTradeToUser(buyValue, strategie.wp)\n",
        "\n",
        "  else:\n",
        "\n",
        "    print(\":::HALTEN\")\n",
        "    "
      ],
      "execution_count": 0,
      "outputs": []
    },
    {
      "cell_type": "markdown",
      "metadata": {
        "id": "fB1qxB2cWUow",
        "colab_type": "text"
      },
      "source": [
        "## **Bot-Menu**\n",
        "\n",
        "> Um Visualisierung zu ermöglichen wird ein kleines Menü erstellt, um Einstellungen und Strategien verwalten zu können."
      ]
    },
    {
      "cell_type": "code",
      "metadata": {
        "id": "yjzkWnz_Zn80",
        "colab_type": "code",
        "colab": {}
      },
      "source": [
        "einstellung1 = \"1: Placeholder\"\n",
        "einstellung2 = \"2: Placeholder\"\n",
        "einstellung3 = \"3: Placeholder\"\n",
        "einstellungen = [einstellung1, einstellung2, einstellung3]\n",
        "\n",
        "def printEinstellungen():\n",
        "  print(\":: EINSTELLUNGEN\")\n",
        "  for e in einstellungen:\n",
        "    print(e)\n",
        "  print()\n",
        "  print(\"0: Zurück\")\n",
        "  print()"
      ],
      "execution_count": 0,
      "outputs": []
    },
    {
      "cell_type": "code",
      "metadata": {
        "id": "1rtI_yZiZzBL",
        "colab_type": "code",
        "colab": {}
      },
      "source": [
        "strategie1 = [\"1: Strategie #1\", \"123\"]\n",
        "strategie2 = [\"2: Strategie #2\", \"234\"]\n",
        "strategie3 = [\"3: Strategie #3\", \"345\"]\n",
        "strategien = [strategie1, strategie2, strategie3]\n",
        "\n",
        "def printStrategien():\n",
        "  print(\":: STRATEGIEN\")\n",
        "  for s in strategien:\n",
        "    print(s[0])\n",
        "  print()\n",
        "  print(\"0: Zurück\")\n",
        "  print()\n",
        "\n",
        "def runStrategie(id):\n",
        "  strat = getStrategie(strategien[id-1][1])\n",
        "\n",
        "  actWithStrat(strat)"
      ],
      "execution_count": 0,
      "outputs": []
    },
    {
      "cell_type": "code",
      "metadata": {
        "id": "wBXRtRSEZ2h6",
        "colab_type": "code",
        "colab": {}
      },
      "source": [
        "budget1 = \"1: Guthaben\"\n",
        "budget2 = \"2: Einzahlung\"\n",
        "budget3 = \"3: Zahlungsverlauf\"\n",
        "budgets = [budget1, budget2, budget3]\n",
        "\n",
        "def printBudgets():\n",
        "  print(\":: BUDGET\")\n",
        "  for b in budgets:\n",
        "    print(b)\n",
        "  print()\n",
        "  print(\"0: Zurück\")\n",
        "  print()\n"
      ],
      "execution_count": 0,
      "outputs": []
    },
    {
      "cell_type": "code",
      "metadata": {
        "id": "wsAvMu5rWSrB",
        "colab_type": "code",
        "colab": {}
      },
      "source": [
        "menu1 = \"1: Einstellungen\"\n",
        "menu2 = \"2: Strategien\"\n",
        "menu3 = \"3: Budget\"\n",
        "\n",
        "menu = [menu1, menu2, menu3]\n",
        "\n",
        "def printMenu():\n",
        "  print(\":: TRADING BOT\")\n",
        "  for m in menu:\n",
        "    print(m)\n",
        "  print()"
      ],
      "execution_count": 0,
      "outputs": []
    },
    {
      "cell_type": "markdown",
      "metadata": {
        "id": "uSjZ5QkIV6eb",
        "colab_type": "text"
      },
      "source": [
        "## **Tests**\n",
        "\n",
        "> Beschreibung Tests"
      ]
    },
    {
      "cell_type": "code",
      "metadata": {
        "id": "hHKHeTsTN0Hb",
        "colab_type": "code",
        "outputId": "fd73af23-5f13-4e80-e672-34786ce28100",
        "colab": {
          "base_uri": "https://localhost:8080/",
          "height": 119
        }
      },
      "source": [
        "!git clone https://github.com/sleuoth-hof/trading_2019.git"
      ],
      "execution_count": 11,
      "outputs": [
        {
          "output_type": "stream",
          "text": [
            "Cloning into 'trading_2019'...\n",
            "remote: Enumerating objects: 88, done.\u001b[K\n",
            "remote: Counting objects: 100% (88/88), done.\u001b[K\n",
            "remote: Compressing objects: 100% (58/58), done.\u001b[K\n",
            "remote: Total 88 (delta 25), reused 61 (delta 13), pack-reused 0\u001b[K\n",
            "Unpacking objects: 100% (88/88), done.\n"
          ],
          "name": "stdout"
        }
      ]
    },
    {
      "cell_type": "code",
      "metadata": {
        "id": "bK8nD77hQGX_",
        "colab_type": "code",
        "colab": {}
      },
      "source": [
        "import csv\n",
        "\n",
        "with open('trading_2019/TradingBot/Code/v1/coins_1.csv', 'r') as _filehandler:\n",
        "  csv_file_reader = csv.DictReader(_filehandler)\n",
        "\n",
        "  for row in csv_file_reader:\n",
        "    coin = Wertpapier(row['id'], row['name'], row['short'], row['date'], row['course'])\n",
        "    coins.append(coin)\n",
        "  "
      ],
      "execution_count": 0,
      "outputs": []
    },
    {
      "cell_type": "code",
      "metadata": {
        "id": "k54StZU8RfpU",
        "colab_type": "code",
        "outputId": "ffc849dd-5a3e-4ac7-87ca-c98e8d93a63e",
        "colab": {
          "base_uri": "https://localhost:8080/",
          "height": 102
        }
      },
      "source": [
        "for coin in coins:\n",
        "  print(\":: \" + coin.name + \" (\" + coin.short +\")\" + \" am: \" + coin.date + \" - \" + coin.course)"
      ],
      "execution_count": 13,
      "outputs": [
        {
          "output_type": "stream",
          "text": [
            ":: Bitcoin (BTC) am: 20191214 - 7065.3398\n",
            ":: Ethereum (ETH) am: 20191214 - 141.4040\n",
            ":: Ripple (XRP) am: 20191214 - 0.2153\n",
            ":: Tether (USDT) am: 20191214 - 1.0066\n",
            ":: Litecoin (LTC) am: 20191214 - 43.1805\n"
          ],
          "name": "stdout"
        }
      ]
    },
    {
      "cell_type": "code",
      "metadata": {
        "id": "4LQSgOGDWATx",
        "colab_type": "code",
        "colab": {}
      },
      "source": [
        "testUser = User(0, \"Max Mustermann\", 1000.00, [])\n",
        "buyValue = 0.0\n",
        "\n",
        "strategie123 = Strategie(0, \"123\", coins[0], \"K1\")\n",
        "strategie234 = Strategie(0, \"234\", coins[0], \"V1\")\n",
        "allStrategies = [strategie123, strategie234]"
      ],
      "execution_count": 0,
      "outputs": []
    },
    {
      "cell_type": "code",
      "metadata": {
        "id": "BgnoAD2fL7NU",
        "colab_type": "code",
        "outputId": "5fb0b862-7a09-4b36-941c-7df0bb1617e7",
        "colab": {
          "base_uri": "https://localhost:8080/",
          "height": 51
        }
      },
      "source": [
        "actWithStrat(allStrategies[0])\n",
        "\n"
      ],
      "execution_count": 15,
      "outputs": [
        {
          "output_type": "stream",
          "text": [
            ":::KAUFEN\n",
            "buy 333.3333333333333 of BTC\n"
          ],
          "name": "stdout"
        }
      ]
    },
    {
      "cell_type": "code",
      "metadata": {
        "id": "pIIgzILKWfJf",
        "colab_type": "code",
        "outputId": "b6bddc50-fccf-40d5-8ba6-89c3f6c9b782",
        "colab": {
          "base_uri": "https://localhost:8080/",
          "height": 68
        }
      },
      "source": [
        "actWithStrat(allStrategies[1])"
      ],
      "execution_count": 16,
      "outputs": [
        {
          "output_type": "stream",
          "text": [
            ":::VERKAUFEN\n",
            "::AUF DEM MARKT -> 333.3333333333333\n",
            "sell 111.1111111111111 of BTC\n"
          ],
          "name": "stdout"
        }
      ]
    },
    {
      "cell_type": "code",
      "metadata": {
        "id": "CS347dKXL9N7",
        "colab_type": "code",
        "outputId": "fc7f7c4d-f65e-497a-897a-cf726a9c3b1f",
        "colab": {
          "base_uri": "https://localhost:8080/",
          "height": 34
        }
      },
      "source": [
        "for trade in testUser.trades:\n",
        "  print(\":: TRADE :: am \" + trade.date + \" :: Wertpapier: \" + trade.wp.short + \" :: Einsatz/Kurs: \" + str(trade.amount) + \" / \" + str(trade.wp.course))"
      ],
      "execution_count": 17,
      "outputs": [
        {
          "output_type": "stream",
          "text": [
            ":: TRADE :: am 20191213 :: Wertpapier: BTC :: Einsatz/Kurs: 333.3333333333333 / 7065.3398\n"
          ],
          "name": "stdout"
        }
      ]
    },
    {
      "cell_type": "code",
      "metadata": {
        "id": "nftJalBWWxuH",
        "colab_type": "code",
        "outputId": "5d364bef-972d-43d4-c709-dd5f14afd4ef",
        "colab": {
          "base_uri": "https://localhost:8080/",
          "height": 459
        }
      },
      "source": [
        "printMenu()\n",
        "\n",
        "printEinstellungen()\n",
        "\n",
        "printStrategien()\n",
        "\n",
        "printBudgets()"
      ],
      "execution_count": 18,
      "outputs": [
        {
          "output_type": "stream",
          "text": [
            ":: TRADING BOT\n",
            "1: Einstellungen\n",
            "2: Strategien\n",
            "3: Budget\n",
            "\n",
            ":: EINSTELLUNGEN\n",
            "1: Placeholder\n",
            "2: Placeholder\n",
            "3: Placeholder\n",
            "\n",
            "0: Zurück\n",
            "\n",
            ":: STRATEGIEN\n",
            "1: Strategie #1\n",
            "2: Strategie #2\n",
            "3: Strategie #3\n",
            "\n",
            "0: Zurück\n",
            "\n",
            ":: BUDGET\n",
            "1: Guthaben\n",
            "2: Einzahlung\n",
            "3: Zahlungsverlauf\n",
            "\n",
            "0: Zurück\n",
            "\n"
          ],
          "name": "stdout"
        }
      ]
    }
  ]
}