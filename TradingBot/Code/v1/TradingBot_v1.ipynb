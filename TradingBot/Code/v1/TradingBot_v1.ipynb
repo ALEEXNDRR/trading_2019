{
  "nbformat": 4,
  "nbformat_minor": 0,
  "metadata": {
    "colab": {
      "name": "TradingBot_v1.ipynb",
      "provenance": [],
      "collapsed_sections": []
    },
    "kernelspec": {
      "name": "python3",
      "display_name": "Python 3"
    }
  },
  "cells": [
    {
      "cell_type": "markdown",
      "metadata": {
        "id": "JlBMPH5OYt5r",
        "colab_type": "text"
      },
      "source": [
        "Daten aus Spark werden in einem File abgelegt.\n",
        "\n",
        "*   .csv auslesen\n",
        "*   Startdatum festlegen\n",
        "\n",
        "    -> Daten für diesen Tag vorhanden :: nehmen dieser Daten\n",
        "    -> Daten nicht vorhanden :: suchen nahegelegendsten Tag\n",
        "\n",
        "\n"
      ]
    },
    {
      "cell_type": "markdown",
      "metadata": {
        "id": "mODKJ0RinqPp",
        "colab_type": "text"
      },
      "source": [
        "**Klassen:**\n",
        "\n",
        "User - id, Name, Guthaben\n",
        "\n",
        "Strategie - id, Name, Wertpapier, Signal\n",
        "Wertpapier: id, Name, Shortcut, Start, Kurs"
      ]
    },
    {
      "cell_type": "code",
      "metadata": {
        "id": "BK3xmt4RZukt",
        "colab_type": "code",
        "colab": {}
      },
      "source": [
        "class User:\n",
        "  def __init__(self, id, name, budget):\n",
        "    self.id = id\n",
        "    self.name = name\n",
        "    self.budget = budget\n",
        "\n",
        "class Strategie:\n",
        "  def __init__(self, id, name, wp, signal):\n",
        "    self.id = id\n",
        "    self.name = name\n",
        "    self.wp = wp\n",
        "    self.signal = signal\n",
        "\n",
        "class Wertpapier:\n",
        "  def __init__(self, id, name, short, start, course):\n",
        "    self.id = id\n",
        "    self.name = name\n",
        "    self.short = short\n",
        "    self.start = start\n",
        "    self.course = course"
      ],
      "execution_count": 0,
      "outputs": []
    },
    {
      "cell_type": "markdown",
      "metadata": {
        "id": "VW-IVw8HqPBd",
        "colab_type": "text"
      },
      "source": [
        "TREND\n",
        "\n",
        "* Abwärtstrend\n",
        "* Aufwärtstrend\n",
        "\n",
        "WEAK_SIGNAL :: STRONG_SIGNAL:\n",
        "\n",
        "* Halten\n",
        "* Verkaufen\n",
        "* Stark Verkaufen\n",
        "* Kaufen\n",
        "* Stark Kaufen\n",
        "\n",
        "\n",
        "\n"
      ]
    },
    {
      "cell_type": "code",
      "metadata": {
        "id": "gYG_f6rMhgpT",
        "colab_type": "code",
        "colab": {
          "base_uri": "https://localhost:8080/",
          "height": 102
        },
        "outputId": "6b5a721b-bee6-4d7b-c9a1-1905f960c49b"
      },
      "source": [
        "testUser = User(0, \"Max Mustermann\", 1000.00)\n",
        "buyValue = 0.0\n",
        "\n",
        "btc = Wertpapier(1, \"Bitcoin\", \"BTC\", \"20180101\", 9545.30)\n",
        "\n",
        "strategie = Strategie(0, \"Strategie 1\", btc, \"K2\")\n",
        "\n",
        "\n",
        "def makeDecision(listOfPapers, signals):\n",
        "  print(\"make decision\")\n",
        "\n",
        "def buy(sum, wp):\n",
        "  print(\"buy \" + str(sum) + \" of \" + wp.short)\n",
        "\n",
        "def sell(sum, wp):\n",
        "  print(\"sell \" + str(sum) + \" of \" + wp.short)\n",
        "\n",
        "def getAmountAtMarket(wp):\n",
        "  print(\"hole gekaufte menge von wp: \" + wp)\n",
        "  return 1.2345\n",
        "\n",
        "if strategie.signal == \"V1\":\n",
        "  print(\":::VERKAUFEN\")\n",
        "  atMarket = getAmountAtMarket(strategie.wp.short)\n",
        "  print(\"::AUF DEM MARKT -> \" + str(atMarket))\n",
        "  sell((atMarket/2), btc)\n",
        "elif strategie.signal == \"V2\":\n",
        "  print(\":::STARK VERKAUFEN\")\n",
        "  atMarket = getAmountAtMarket(strategie.wp.short)\n",
        "  print(\"::AUF DEM MARKT\" + str(atMarket))\n",
        "  buy(atMarket, btc)\n",
        "elif strategie.signal == \"K1\":\n",
        "  print(\":::KAUFEN\")\n",
        "  buyValue = testUser.budget / 2\n",
        "  testUser.budget = testUser.budget - buyValue\n",
        "  buy(buyValue, btc)\n",
        "elif strategie.signal == \"K2\":\n",
        "  print(\":::STARK KAUFEN\")\n",
        "  buyValue = testUser.budget\n",
        "  testUser.budget = testUser.budget - buyValue\n",
        "  buy(buyValue, btc)\n",
        "else:\n",
        "  print(\":::HALTEN\")\n",
        "\n",
        "print(\"::: USER :::\")\n",
        "print(testUser.name)\n",
        "print(testUser.budget)"
      ],
      "execution_count": 54,
      "outputs": [
        {
          "output_type": "stream",
          "text": [
            ":::STARK KAUFEN\n",
            "buy 1000.0 of BTC\n",
            "::: USER :::\n",
            "Max Mustermann\n",
            "0.0\n"
          ],
          "name": "stdout"
        }
      ]
    },
    {
      "cell_type": "code",
      "metadata": {
        "id": "yjzkWnz_Zn80",
        "colab_type": "code",
        "colab": {}
      },
      "source": [
        "einstellung1 = \"1: Placeholder\"\n",
        "einstellung2 = \"2: Placeholder\"\n",
        "einstellung3 = \"3: Placeholder\"\n",
        "einstellungen = [einstellung1, einstellung2, einstellung3]\n",
        "\n",
        "def printEinstellungen():\n",
        "  print(\":: EINSTELLUNGEN\")\n",
        "  for e in einstellungen:\n",
        "    print(e)"
      ],
      "execution_count": 0,
      "outputs": []
    },
    {
      "cell_type": "code",
      "metadata": {
        "id": "1rtI_yZiZzBL",
        "colab_type": "code",
        "colab": {}
      },
      "source": [
        "strategie1 = \"1: Placeholder\"\n",
        "strategie2 = \"2: Placeholder\"\n",
        "strategie3 = \"3: Placeholder\"\n",
        "strategien = [strategie1, strategie2, strategie3]\n",
        "\n",
        "def printStrategien():\n",
        "  print(\":: STRATEGIEN\")\n",
        "  for s in strategien:\n",
        "    print(s)"
      ],
      "execution_count": 0,
      "outputs": []
    },
    {
      "cell_type": "code",
      "metadata": {
        "id": "wBXRtRSEZ2h6",
        "colab_type": "code",
        "colab": {}
      },
      "source": [
        "budget1 = \"1: Guthaben\"\n",
        "budget2 = \"2: Einzahlung\"\n",
        "budget3 = \"3: Zahlungsverlauf\"\n",
        "budgets = [budget1, budget2, budget3]\n",
        "\n",
        "def printBudgets():\n",
        "  print(\":: BUDGET\")\n",
        "  for b in budgets:\n",
        "    print(b)\n",
        "\n",
        "def showGuthaben():\n",
        "  print(\":: AKTUELLES GUTHABEN\")\n",
        "  print(\"   1000,00 EUR\")\n",
        "  print()\n",
        "  print(\"0: Zurück\")"
      ],
      "execution_count": 0,
      "outputs": []
    },
    {
      "cell_type": "code",
      "metadata": {
        "id": "nftJalBWWxuH",
        "colab_type": "code",
        "outputId": "b79ce57b-cf7a-49cc-dacc-7f6eb8e64eea",
        "colab": {
          "base_uri": "https://localhost:8080/",
          "height": 323
        }
      },
      "source": [
        "menu1 = \"1: Einstellungen\"\n",
        "menu2 = \"2: Strategien\"\n",
        "menu3 = \"3: Budget\"\n",
        "\n",
        "print(menu1)\n",
        "print(menu2)\n",
        "print(menu3)\n",
        "\n",
        "cursor = int(input(\"Bitte wählen Sie: \"))\n",
        "\n",
        "showEinstellungen = -1\n",
        "showStrategien = -1\n",
        "showBudgets = -1\n",
        "\n",
        "if cursor < 0: print(\":: ERROR\")\n",
        "elif cursor == 1: showEinstellungen = 1\n",
        "elif cursor == 2: showStrategien = 1\n",
        "elif cursor == 3: showBudget = 1\n",
        "\n",
        "\n",
        "\n",
        "if showBudget == 1: \n",
        "  printBudgets()\n",
        "\n",
        "cursor = int(input(\"Bitte wählen Sie: \"))\n",
        "\n",
        "if cursor == 1: showGuthaben()\n",
        "\n",
        "cursor = int(input(\"Bitte wählen Sie: \"))\n",
        "\n",
        "if cursor == 0: printBudgets()"
      ],
      "execution_count": 0,
      "outputs": [
        {
          "output_type": "stream",
          "text": [
            "1: Einstellungen\n",
            "2: Strategien\n",
            "3: Budget\n",
            "Bitte wählen Sie: 3\n",
            ":: BUDGET\n",
            "1: Guthaben\n",
            "2: Einzahlung\n",
            "3: Zahlungsverlauf\n",
            "Bitte wählen Sie: 1\n",
            ":: AKTUELLES GUTHABEN\n",
            "   1000,00 EUR\n",
            "\n",
            "0: Zurück\n",
            "Bitte wählen Sie: 0\n",
            ":: BUDGET\n",
            "1: Guthaben\n",
            "2: Einzahlung\n",
            "3: Zahlungsverlauf\n"
          ],
          "name": "stdout"
        }
      ]
    }
  ]
}