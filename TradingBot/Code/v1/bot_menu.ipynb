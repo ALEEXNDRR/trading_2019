{
  "nbformat": 4,
  "nbformat_minor": 0,
  "metadata": {
    "colab": {
      "name": "Untitled1.ipynb",
      "provenance": [],
      "collapsed_sections": []
    },
    "kernelspec": {
      "name": "python3",
      "display_name": "Python 3"
    }
  },
  "cells": [
    {
      "cell_type": "code",
      "metadata": {
        "id": "yjzkWnz_Zn80",
        "colab_type": "code",
        "colab": {}
      },
      "source": [
        "einstellung1 = \"1: Placeholder\"\n",
        "einstellung2 = \"2: Placeholder\"\n",
        "einstellung3 = \"3: Placeholder\"\n",
        "einstellungen = [einstellung1, einstellung2, einstellung3]\n",
        "\n",
        "def printEinstellungen():\n",
        "  print(\":: EINSTELLUNGEN\")\n",
        "  for e in einstellungen:\n",
        "    print(e)"
      ],
      "execution_count": 0,
      "outputs": []
    },
    {
      "cell_type": "code",
      "metadata": {
        "id": "1rtI_yZiZzBL",
        "colab_type": "code",
        "colab": {}
      },
      "source": [
        "strategie1 = \"1: Placeholder\"\n",
        "strategie2 = \"2: Placeholder\"\n",
        "strategie3 = \"3: Placeholder\"\n",
        "strategien = [strategie1, strategie2, strategie3]\n",
        "\n",
        "def printStrategien():\n",
        "  print(\":: STRATEGIEN\")\n",
        "  for s in strategien:\n",
        "    print(s)"
      ],
      "execution_count": 0,
      "outputs": []
    },
    {
      "cell_type": "code",
      "metadata": {
        "id": "wBXRtRSEZ2h6",
        "colab_type": "code",
        "colab": {}
      },
      "source": [
        "budget1 = \"1: Guthaben\"\n",
        "budget2 = \"2: Einzahlung\"\n",
        "budget3 = \"3: Zahlungsverlauf\"\n",
        "budgets = [budget1, budget2, budget3]\n",
        "\n",
        "def printBudgets():\n",
        "  print(\":: BUDGET\")\n",
        "  for b in budgets:\n",
        "    print(b)\n",
        "\n",
        "def showGuthaben():\n",
        "  print(\":: AKTUELLES GUTHABEN\")\n",
        "  print(\"   1000,00 EUR\")\n",
        "  print()\n",
        "  print(\"0: Zurück\")"
      ],
      "execution_count": 0,
      "outputs": []
    },
    {
      "cell_type": "code",
      "metadata": {
        "id": "nftJalBWWxuH",
        "colab_type": "code",
        "colab": {
          "base_uri": "https://localhost:8080/",
          "height": 323
        },
        "outputId": "b79ce57b-cf7a-49cc-dacc-7f6eb8e64eea"
      },
      "source": [
        "menu1 = \"1: Einstellungen\"\n",
        "menu2 = \"2: Strategien\"\n",
        "menu3 = \"3: Budget\"\n",
        "\n",
        "print(menu1)\n",
        "print(menu2)\n",
        "print(menu3)\n",
        "\n",
        "cursor = int(input(\"Bitte wählen Sie: \"))\n",
        "\n",
        "showEinstellungen = -1\n",
        "showStrategien = -1\n",
        "showBudgets = -1\n",
        "\n",
        "if cursor < 0: print(\":: ERROR\")\n",
        "elif cursor == 1: showEinstellungen = 1\n",
        "elif cursor == 2: showStrategien = 1\n",
        "elif cursor == 3: showBudget = 1\n",
        "\n",
        "\n",
        "\n",
        "if showBudget == 1: \n",
        "  printBudgets()\n",
        "\n",
        "cursor = int(input(\"Bitte wählen Sie: \"))\n",
        "\n",
        "if cursor == 1: showGuthaben()\n",
        "\n",
        "cursor = int(input(\"Bitte wählen Sie: \"))\n",
        "\n",
        "if cursor == 0: printBudgets()"
      ],
      "execution_count": 54,
      "outputs": [
        {
          "output_type": "stream",
          "text": [
            "1: Einstellungen\n",
            "2: Strategien\n",
            "3: Budget\n",
            "Bitte wählen Sie: 3\n",
            ":: BUDGET\n",
            "1: Guthaben\n",
            "2: Einzahlung\n",
            "3: Zahlungsverlauf\n",
            "Bitte wählen Sie: 1\n",
            ":: AKTUELLES GUTHABEN\n",
            "   1000,00 EUR\n",
            "\n",
            "0: Zurück\n",
            "Bitte wählen Sie: 0\n",
            ":: BUDGET\n",
            "1: Guthaben\n",
            "2: Einzahlung\n",
            "3: Zahlungsverlauf\n"
          ],
          "name": "stdout"
        }
      ]
    }
  ]
}